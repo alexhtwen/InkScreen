{
 "cells": [
  {
   "cell_type": "code",
   "execution_count": 10,
   "metadata": {},
   "outputs": [
    {
     "name": "stdout",
     "output_type": "stream",
     "text": [
      "scr-00.png\n",
      "scr-01.png\n",
      "scr-02.png\n",
      "scr-03.png\n",
      "scr-04.png\n",
      "scr-05.png\n",
      "scr-06.png\n",
      "scr-07.png\n",
      "scr-08.png\n",
      "scr-09.png\n"
     ]
    }
   ],
   "source": [
    "from mss import mss\n",
    "import time\n",
    "\n",
    "# with mss() as sct:\n",
    "#     for _ in range(10):\n",
    "#         sct.shot()\n",
    "#         time.sleep(1)\n",
    "        \n",
    "with mss() as sct:\n",
    "    for i in range(10):\n",
    "        filename = sct.shot(output=f\"scr-{i:02}.png\")  #, callback=on_exists)\n",
    "        print(filename)\n",
    "        time.sleep(3)"
   ]
  },
  {
   "cell_type": "code",
   "execution_count": 7,
   "metadata": {},
   "outputs": [
    {
     "name": "stdout",
     "output_type": "stream",
     "text": [
      "scr-1.png\n"
     ]
    }
   ],
   "source": [
    "import os.path\n",
    "\n",
    "import mss\n",
    "\n",
    "\n",
    "def on_exists(fname: str) -> None:\n",
    "    \"\"\"\n",
    "    Callback example when we try to overwrite an existing screenshot.\n",
    "    \"\"\"\n",
    "    if os.path.isfile(fname):\n",
    "        newfile = f\"{fname}_1\"\n",
    "        print(f\"{fname} -> {newfile}\")\n",
    "        os.rename(fname, newfile)\n",
    "\n",
    "\n",
    "with mss.mss() as sct:\n",
    "    filename = sct.shot(output=\"scr-{mon}.png\", callback=on_exists)\n",
    "    print(filename)"
   ]
  }
 ],
 "metadata": {
  "kernelspec": {
   "display_name": "Python 3",
   "language": "python",
   "name": "python3"
  },
  "language_info": {
   "codemirror_mode": {
    "name": "ipython",
    "version": 3
   },
   "file_extension": ".py",
   "mimetype": "text/x-python",
   "name": "python",
   "nbconvert_exporter": "python",
   "pygments_lexer": "ipython3",
   "version": "3.11.4"
  },
  "orig_nbformat": 4
 },
 "nbformat": 4,
 "nbformat_minor": 2
}
