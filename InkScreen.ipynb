{
 "cells": [
  {
   "cell_type": "code",
   "execution_count": 10,
   "metadata": {},
   "outputs": [
    {
     "name": "stdout",
     "output_type": "stream",
     "text": [
      "scr-00.png\n",
      "scr-01.png\n",
      "scr-02.png\n",
      "scr-03.png\n",
      "scr-04.png\n",
      "scr-05.png\n",
      "scr-06.png\n",
      "scr-07.png\n",
      "scr-08.png\n",
      "scr-09.png\n"
     ]
    }
   ],
   "source": [
    "from mss import mss\n",
    "import time\n",
    "\n",
    "# with mss() as sct:\n",
    "#     for _ in range(10):\n",
    "#         sct.shot()\n",
    "#         time.sleep(1)\n",
    "        \n",
    "with mss() as sct:\n",
    "    for i in range(10):\n",
    "        filename = sct.shot(output=f\"scr-{i:02}.png\")  #, callback=on_exists)\n",
    "        print(filename)\n",
    "        time.sleep(3)"
   ]
  },
  {
   "cell_type": "code",
   "execution_count": 2,
   "metadata": {},
   "outputs": [
    {
     "ename": "ImportError",
     "evalue": "You must be root to use this library on linux.",
     "output_type": "error",
     "traceback": [
      "\u001b[0;31m---------------------------------------------------------------------------\u001b[0m",
      "\u001b[0;31mImportError\u001b[0m                               Traceback (most recent call last)",
      "Cell \u001b[0;32mIn[2], line 12\u001b[0m\n\u001b[1;32m      7\u001b[0m             \u001b[39mprint\u001b[39m(filename)\n\u001b[1;32m      8\u001b[0m             time\u001b[39m.\u001b[39msleep(\u001b[39m3\u001b[39m)\n\u001b[0;32m---> 12\u001b[0m keyboard\u001b[39m.\u001b[39;49madd_hotkey(\u001b[39m'\u001b[39;49m\u001b[39mctrl + prt sc\u001b[39;49m\u001b[39m'\u001b[39;49m, capture_screen)\n\u001b[1;32m     13\u001b[0m keyboard\u001b[39m.\u001b[39mwait()\n",
      "File \u001b[0;32m~/.local/lib/python3.11/site-packages/keyboard/__init__.py:639\u001b[0m, in \u001b[0;36madd_hotkey\u001b[0;34m(hotkey, callback, args, suppress, timeout, trigger_on_release)\u001b[0m\n\u001b[1;32m    636\u001b[0m \u001b[39mif\u001b[39;00m args:\n\u001b[1;32m    637\u001b[0m     callback \u001b[39m=\u001b[39m \u001b[39mlambda\u001b[39;00m callback\u001b[39m=\u001b[39mcallback: callback(\u001b[39m*\u001b[39margs)\n\u001b[0;32m--> 639\u001b[0m _listener\u001b[39m.\u001b[39;49mstart_if_necessary()\n\u001b[1;32m    641\u001b[0m steps \u001b[39m=\u001b[39m parse_hotkey_combinations(hotkey)\n\u001b[1;32m    643\u001b[0m event_type \u001b[39m=\u001b[39m KEY_UP \u001b[39mif\u001b[39;00m trigger_on_release \u001b[39melse\u001b[39;00m KEY_DOWN\n",
      "File \u001b[0;32m~/.local/lib/python3.11/site-packages/keyboard/_generic.py:35\u001b[0m, in \u001b[0;36mGenericListener.start_if_necessary\u001b[0;34m(self)\u001b[0m\n\u001b[1;32m     33\u001b[0m \u001b[39mtry\u001b[39;00m:\n\u001b[1;32m     34\u001b[0m     \u001b[39mif\u001b[39;00m \u001b[39mnot\u001b[39;00m \u001b[39mself\u001b[39m\u001b[39m.\u001b[39mlistening:\n\u001b[0;32m---> 35\u001b[0m         \u001b[39mself\u001b[39;49m\u001b[39m.\u001b[39;49minit()\n\u001b[1;32m     37\u001b[0m         \u001b[39mself\u001b[39m\u001b[39m.\u001b[39mlistening \u001b[39m=\u001b[39m \u001b[39mTrue\u001b[39;00m\n\u001b[1;32m     38\u001b[0m         \u001b[39mself\u001b[39m\u001b[39m.\u001b[39mlistening_thread \u001b[39m=\u001b[39m Thread(target\u001b[39m=\u001b[39m\u001b[39mself\u001b[39m\u001b[39m.\u001b[39mlisten)\n",
      "File \u001b[0;32m~/.local/lib/python3.11/site-packages/keyboard/__init__.py:196\u001b[0m, in \u001b[0;36m_KeyboardListener.init\u001b[0;34m(self)\u001b[0m\n\u001b[1;32m    195\u001b[0m \u001b[39mdef\u001b[39;00m \u001b[39minit\u001b[39m(\u001b[39mself\u001b[39m):\n\u001b[0;32m--> 196\u001b[0m     _os_keyboard\u001b[39m.\u001b[39;49minit()\n\u001b[1;32m    198\u001b[0m     \u001b[39mself\u001b[39m\u001b[39m.\u001b[39mactive_modifiers \u001b[39m=\u001b[39m \u001b[39mset\u001b[39m()\n\u001b[1;32m    199\u001b[0m     \u001b[39mself\u001b[39m\u001b[39m.\u001b[39mblocking_hooks \u001b[39m=\u001b[39m []\n",
      "File \u001b[0;32m~/.local/lib/python3.11/site-packages/keyboard/_nixkeyboard.py:113\u001b[0m, in \u001b[0;36minit\u001b[0;34m()\u001b[0m\n\u001b[1;32m    112\u001b[0m \u001b[39mdef\u001b[39;00m \u001b[39minit\u001b[39m():\n\u001b[0;32m--> 113\u001b[0m     build_device()\n\u001b[1;32m    114\u001b[0m     build_tables()\n",
      "File \u001b[0;32m~/.local/lib/python3.11/site-packages/keyboard/_nixkeyboard.py:109\u001b[0m, in \u001b[0;36mbuild_device\u001b[0;34m()\u001b[0m\n\u001b[1;32m    107\u001b[0m \u001b[39mglobal\u001b[39;00m device\n\u001b[1;32m    108\u001b[0m \u001b[39mif\u001b[39;00m device: \u001b[39mreturn\u001b[39;00m\n\u001b[0;32m--> 109\u001b[0m ensure_root()\n\u001b[1;32m    110\u001b[0m device \u001b[39m=\u001b[39m aggregate_devices(\u001b[39m'\u001b[39m\u001b[39mkbd\u001b[39m\u001b[39m'\u001b[39m)\n",
      "File \u001b[0;32m~/.local/lib/python3.11/site-packages/keyboard/_nixcommon.py:174\u001b[0m, in \u001b[0;36mensure_root\u001b[0;34m()\u001b[0m\n\u001b[1;32m    172\u001b[0m \u001b[39mdef\u001b[39;00m \u001b[39mensure_root\u001b[39m():\n\u001b[1;32m    173\u001b[0m     \u001b[39mif\u001b[39;00m os\u001b[39m.\u001b[39mgeteuid() \u001b[39m!=\u001b[39m \u001b[39m0\u001b[39m:\n\u001b[0;32m--> 174\u001b[0m         \u001b[39mraise\u001b[39;00m \u001b[39mImportError\u001b[39;00m(\u001b[39m'\u001b[39m\u001b[39mYou must be root to use this library on linux.\u001b[39m\u001b[39m'\u001b[39m)\n",
      "\u001b[0;31mImportError\u001b[0m: You must be root to use this library on linux."
     ]
    }
   ],
   "source": [
    "import keyboard\n",
    "\n",
    "def capture_screen():\n",
    "    with mss() as sct:\n",
    "        for i in range(10):\n",
    "            filename = sct.shot(output=f\"scr-{i:02}.png\")\n",
    "            print(filename)\n",
    "            time.sleep(3)\n",
    "\n",
    "\n",
    "\n",
    "keyboard.add_hotkey('ctrl + prt sc', capture_screen)\n",
    "keyboard.wait()\n"
   ]
  },
  {
   "cell_type": "code",
   "execution_count": 1,
   "metadata": {},
   "outputs": [
    {
     "ename": "ModuleNotFoundError",
     "evalue": "No module named 'pynput'",
     "output_type": "error",
     "traceback": [
      "\u001b[0;31m---------------------------------------------------------------------------\u001b[0m",
      "\u001b[0;31mModuleNotFoundError\u001b[0m                       Traceback (most recent call last)",
      "Cell \u001b[0;32mIn[1], line 1\u001b[0m\n\u001b[0;32m----> 1\u001b[0m \u001b[39mfrom\u001b[39;00m \u001b[39mpynput\u001b[39;00m \u001b[39mimport\u001b[39;00m keyboard\n\u001b[1;32m      2\u001b[0m \u001b[39mprint\u001b[39m(\u001b[39m'\u001b[39m\u001b[39mpynput.keyboard imported\u001b[39m\u001b[39m'\u001b[39m)\n",
      "\u001b[0;31mModuleNotFoundError\u001b[0m: No module named 'pynput'"
     ]
    }
   ],
   "source": [
    "from pynput import keyboard\n",
    "print('pynput.keyboard imported')"
   ]
  },
  {
   "cell_type": "code",
   "execution_count": 1,
   "metadata": {},
   "outputs": [
    {
     "name": "stderr",
     "output_type": "stream",
     "text": [
      "Unhandled exception in listener callback\n",
      "Traceback (most recent call last):\n",
      "  File \"/home/alex/.local/lib/python3.10/site-packages/pynput/_util/__init__.py\", line 228, in inner\n",
      "    return f(self, *args, **kwargs)\n",
      "  File \"/home/alex/.local/lib/python3.10/site-packages/pynput/_util/xorg.py\", line 470, in _handler\n",
      "    self._handle(self._display_stop, event)\n",
      "  File \"/home/alex/.local/lib/python3.10/site-packages/pynput/keyboard/_xorg.py\", line 567, in _handle\n",
      "    self.on_release(key)\n",
      "  File \"/home/alex/.local/lib/python3.10/site-packages/pynput/_util/__init__.py\", line 144, in inner\n",
      "    if f(*args) is False:\n",
      "  File \"/tmp/ipykernel_742512/3100849859.py\", line 18, in on_release\n",
      "    current_keys.remove(key)\n",
      "KeyError: <Key.ctrl: <65507>>\n"
     ]
    },
    {
     "ename": "KeyError",
     "evalue": "<Key.ctrl: <65507>>",
     "output_type": "error",
     "traceback": [
      "\u001b[0;31m---------------------------------------------------------------------------\u001b[0m",
      "\u001b[0;31mKeyError\u001b[0m                                  Traceback (most recent call last)",
      "\u001b[1;32m/mnt/data1/Python/InkScreen/InkScreen.ipynb Cell 3\u001b[0m in \u001b[0;36m2\n\u001b[1;32m     <a href='vscode-notebook-cell:/mnt/data1/Python/InkScreen/InkScreen.ipynb#W3sZmlsZQ%3D%3D?line=17'>18</a>\u001b[0m         current_keys\u001b[39m.\u001b[39mremove(key)\n\u001b[1;32m     <a href='vscode-notebook-cell:/mnt/data1/Python/InkScreen/InkScreen.ipynb#W3sZmlsZQ%3D%3D?line=19'>20</a>\u001b[0m \u001b[39mwith\u001b[39;00m keyboard\u001b[39m.\u001b[39mListener(on_press\u001b[39m=\u001b[39mon_press, on_release\u001b[39m=\u001b[39mon_release) \u001b[39mas\u001b[39;00m listener:\n\u001b[0;32m---> <a href='vscode-notebook-cell:/mnt/data1/Python/InkScreen/InkScreen.ipynb#W3sZmlsZQ%3D%3D?line=20'>21</a>\u001b[0m     listener\u001b[39m.\u001b[39;49mjoin()\n",
      "File \u001b[0;32m~/.local/lib/python3.10/site-packages/pynput/_util/__init__.py:276\u001b[0m, in \u001b[0;36mAbstractListener.join\u001b[0;34m(self, *args)\u001b[0m\n\u001b[1;32m    274\u001b[0m \u001b[39mexcept\u001b[39;00m \u001b[39mTypeError\u001b[39;00m:\n\u001b[1;32m    275\u001b[0m     \u001b[39mreturn\u001b[39;00m\n\u001b[0;32m--> 276\u001b[0m six\u001b[39m.\u001b[39;49mreraise(exc_type, exc_value, exc_traceback)\n",
      "File \u001b[0;32m~/.local/lib/python3.10/site-packages/six.py:718\u001b[0m, in \u001b[0;36mreraise\u001b[0;34m(tp, value, tb)\u001b[0m\n\u001b[1;32m    716\u001b[0m         value \u001b[39m=\u001b[39m tp()\n\u001b[1;32m    717\u001b[0m     \u001b[39mif\u001b[39;00m value\u001b[39m.\u001b[39m__traceback__ \u001b[39mis\u001b[39;00m \u001b[39mnot\u001b[39;00m tb:\n\u001b[0;32m--> 718\u001b[0m         \u001b[39mraise\u001b[39;00m value\u001b[39m.\u001b[39mwith_traceback(tb)\n\u001b[1;32m    719\u001b[0m     \u001b[39mraise\u001b[39;00m value\n\u001b[1;32m    720\u001b[0m \u001b[39mfinally\u001b[39;00m:\n",
      "File \u001b[0;32m~/.local/lib/python3.10/site-packages/pynput/_util/__init__.py:228\u001b[0m, in \u001b[0;36mAbstractListener._emitter.<locals>.inner\u001b[0;34m(self, *args, **kwargs)\u001b[0m\n\u001b[1;32m    224\u001b[0m \u001b[39m@functools\u001b[39m\u001b[39m.\u001b[39mwraps(f)\n\u001b[1;32m    225\u001b[0m \u001b[39mdef\u001b[39;00m \u001b[39minner\u001b[39m(\u001b[39mself\u001b[39m, \u001b[39m*\u001b[39margs, \u001b[39m*\u001b[39m\u001b[39m*\u001b[39mkwargs):\n\u001b[1;32m    226\u001b[0m     \u001b[39m# pylint: disable=W0702; we want to catch all exception\u001b[39;00m\n\u001b[1;32m    227\u001b[0m     \u001b[39mtry\u001b[39;00m:\n\u001b[0;32m--> 228\u001b[0m         \u001b[39mreturn\u001b[39;00m f(\u001b[39mself\u001b[39;49m, \u001b[39m*\u001b[39;49margs, \u001b[39m*\u001b[39;49m\u001b[39m*\u001b[39;49mkwargs)\n\u001b[1;32m    229\u001b[0m     \u001b[39mexcept\u001b[39;00m \u001b[39mException\u001b[39;00m \u001b[39mas\u001b[39;00m e:\n\u001b[1;32m    230\u001b[0m         \u001b[39mif\u001b[39;00m \u001b[39mnot\u001b[39;00m \u001b[39misinstance\u001b[39m(e, \u001b[39mself\u001b[39m\u001b[39m.\u001b[39m_HANDLED_EXCEPTIONS):\n",
      "File \u001b[0;32m~/.local/lib/python3.10/site-packages/pynput/_util/xorg.py:470\u001b[0m, in \u001b[0;36mListenerMixin._handler\u001b[0;34m(self, events)\u001b[0m\n\u001b[1;32m    467\u001b[0m \u001b[39mwhile\u001b[39;00m data \u001b[39mand\u001b[39;00m \u001b[39mlen\u001b[39m(data):\n\u001b[1;32m    468\u001b[0m     event, data \u001b[39m=\u001b[39m \u001b[39mself\u001b[39m\u001b[39m.\u001b[39m_EVENT_PARSER\u001b[39m.\u001b[39mparse_binary_value(\n\u001b[1;32m    469\u001b[0m         data, \u001b[39mself\u001b[39m\u001b[39m.\u001b[39m_display_record\u001b[39m.\u001b[39mdisplay, \u001b[39mNone\u001b[39;00m, \u001b[39mNone\u001b[39;00m)\n\u001b[0;32m--> 470\u001b[0m     \u001b[39mself\u001b[39;49m\u001b[39m.\u001b[39;49m_handle(\u001b[39mself\u001b[39;49m\u001b[39m.\u001b[39;49m_display_stop, event)\n",
      "File \u001b[0;32m~/.local/lib/python3.10/site-packages/pynput/keyboard/_xorg.py:567\u001b[0m, in \u001b[0;36mListener._handle\u001b[0;34m(self, display, event)\u001b[0m\n\u001b[1;32m    564\u001b[0m     \u001b[39mself\u001b[39m\u001b[39m.\u001b[39mon_press(key)\n\u001b[1;32m    566\u001b[0m \u001b[39melif\u001b[39;00m event\u001b[39m.\u001b[39mtype \u001b[39m==\u001b[39m Xlib\u001b[39m.\u001b[39mX\u001b[39m.\u001b[39mKeyRelease:\n\u001b[0;32m--> 567\u001b[0m     \u001b[39mself\u001b[39;49m\u001b[39m.\u001b[39;49mon_release(key)\n",
      "File \u001b[0;32m~/.local/lib/python3.10/site-packages/pynput/_util/__init__.py:144\u001b[0m, in \u001b[0;36mAbstractListener.__init__.<locals>.wrapper.<locals>.inner\u001b[0;34m(*args)\u001b[0m\n\u001b[1;32m    143\u001b[0m \u001b[39mdef\u001b[39;00m \u001b[39minner\u001b[39m(\u001b[39m*\u001b[39margs):\n\u001b[0;32m--> 144\u001b[0m     \u001b[39mif\u001b[39;00m f(\u001b[39m*\u001b[39;49margs) \u001b[39mis\u001b[39;00m \u001b[39mFalse\u001b[39;00m:\n\u001b[1;32m    145\u001b[0m         \u001b[39mraise\u001b[39;00m \u001b[39mself\u001b[39m\u001b[39m.\u001b[39mStopException()\n",
      "\u001b[1;32m/mnt/data1/Python/InkScreen/InkScreen.ipynb Cell 3\u001b[0m in \u001b[0;36m1\n\u001b[1;32m     <a href='vscode-notebook-cell:/mnt/data1/Python/InkScreen/InkScreen.ipynb#W3sZmlsZQ%3D%3D?line=15'>16</a>\u001b[0m \u001b[39mdef\u001b[39;00m \u001b[39mon_release\u001b[39m(key):\n\u001b[1;32m     <a href='vscode-notebook-cell:/mnt/data1/Python/InkScreen/InkScreen.ipynb#W3sZmlsZQ%3D%3D?line=16'>17</a>\u001b[0m     \u001b[39mif\u001b[39;00m \u001b[39many\u001b[39m([key \u001b[39min\u001b[39;00m COMBO \u001b[39mfor\u001b[39;00m COMBO \u001b[39min\u001b[39;00m COMBINATIONS]):\n\u001b[0;32m---> <a href='vscode-notebook-cell:/mnt/data1/Python/InkScreen/InkScreen.ipynb#W3sZmlsZQ%3D%3D?line=17'>18</a>\u001b[0m         current_keys\u001b[39m.\u001b[39;49mremove(key)\n",
      "\u001b[0;31mKeyError\u001b[0m: <Key.ctrl: <65507>>"
     ]
    }
   ],
   "source": [
    "from pynput import keyboard\n",
    "\n",
    "COMBINATIONS = [\n",
    "    {keyboard.Key.ctrl, keyboard.Key.print_screen}\n",
    "]\n",
    "\n",
    "current_keys = set()\n",
    "\n",
    "def on_press(key):\n",
    "    if any([key in COMBO for COMBO in COMBINATIONS]):\n",
    "        current_keys.add(key)\n",
    "\n",
    "        if any(all(k in current_keys for k in COMBO) for COMBO in COMBINATIONS):\n",
    "            capture_screen()\n",
    "\n",
    "def on_release(key):\n",
    "    if any([key in COMBO for COMBO in COMBINATIONS]):\n",
    "        current_keys.remove(key)\n",
    "\n",
    "with keyboard.Listener(on_press=on_press, on_release=on_release) as listener:\n",
    "    listener.join()\n"
   ]
  },
  {
   "cell_type": "code",
   "execution_count": null,
   "metadata": {},
   "outputs": [],
   "source": [
    "# Example file showing a basic pygame \"game loop\"\n",
    "import pygame\n",
    "\n",
    "# pygame setup\n",
    "pygame.init()\n",
    "screen = pygame.display.set_mode((1280, 720))\n",
    "clock = pygame.time.Clock()\n",
    "running = True\n",
    "\n",
    "while running:\n",
    "    # poll for events\n",
    "    # pygame.QUIT event means the user clicked X to close your window\n",
    "    for event in pygame.event.get():\n",
    "        if event.type == pygame.QUIT:\n",
    "            running = False\n",
    "\n",
    "    # fill the screen with a color to wipe away anything from last frame\n",
    "    screen.fill(\"purple\")\n",
    "\n",
    "    # RENDER YOUR GAME HERE\n",
    "\n",
    "    # flip() the display to put your work on screen\n",
    "    pygame.display.flip()\n",
    "\n",
    "    clock.tick(60)  # limits FPS to 60\n",
    "\n",
    "pygame.quit()"
   ]
  },
  {
   "cell_type": "code",
   "execution_count": 3,
   "metadata": {},
   "outputs": [
    {
     "name": "stdout",
     "output_type": "stream",
     "text": [
      "scr-1.png -> scr-1.png_1\n",
      "scr-1.png\n"
     ]
    }
   ],
   "source": [
    "import os.path\n",
    "\n",
    "import mss\n",
    "\n",
    "\n",
    "def on_exists(fname: str) -> None:\n",
    "    \"\"\"\n",
    "    Callback example when we try to overwrite an existing screenshot.\n",
    "    \"\"\"\n",
    "    if os.path.isfile(fname):\n",
    "        newfile = f\"{fname}_1\"\n",
    "        print(f\"{fname} -> {newfile}\")\n",
    "        os.rename(fname, newfile)\n",
    "\n",
    "\n",
    "with mss.mss() as sct:\n",
    "    filename = sct.shot(output=\"scr-{mon}.png\", callback=on_exists)\n",
    "    print(filename)"
   ]
  }
 ],
 "metadata": {
  "kernelspec": {
   "display_name": "Python 3",
   "language": "python",
   "name": "python3"
  },
  "language_info": {
   "codemirror_mode": {
    "name": "ipython",
    "version": 3
   },
   "file_extension": ".py",
   "mimetype": "text/x-python",
   "name": "python",
   "nbconvert_exporter": "python",
   "pygments_lexer": "ipython3",
   "version": "3.11.4"
  },
  "orig_nbformat": 4
 },
 "nbformat": 4,
 "nbformat_minor": 2
}
